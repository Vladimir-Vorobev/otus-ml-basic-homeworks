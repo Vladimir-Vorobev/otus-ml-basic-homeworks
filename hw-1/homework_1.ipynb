{
  "cells": [
    {
      "cell_type": "markdown",
      "metadata": {
        "id": "OxubjEOLVsnk"
      },
      "source": [
        "# <center> Homework 1 </center>"
      ]
    },
    {
      "cell_type": "markdown",
      "metadata": {
        "id": "yhfUCNPoVsnm"
      },
      "source": [
        "# 0. Где мы сейчас?\n",
        "<img src=\"https://upload.wikimedia.org/wikipedia/commons/thumb/3/38/Jupyter_logo.svg/1200px-Jupyter_logo.svg.png\" width=\"150\">\n",
        "\n",
        "[Jupyter Notebook](https://jupyter.org/) - интерактивная среда для запуска программного кода в браузере. Удобный инструмент для анализа данных, который используется многими специалистами по data science. Позволяет выполнять отдельные ячейки с кодом, а не всю программу сразу, что очень удобно при знакомстве с данными."
      ]
    },
    {
      "cell_type": "markdown",
      "metadata": {
        "id": "GJAtqxxjVsnn"
      },
      "source": [
        "# 1. Python\n",
        "> Python - это свободный интерпретируемый объектно-ориентированный расширяемый встраиваемый язык программирования очень высокого уровня \n",
        "\n",
        ">*(Г.Россум, Ф.Л.Дж.Дрейк, Д.С.Откидач \"Язык программирования Python\").*\n",
        "\n",
        "А если без цитат, то питон - это просто очень крутой язык, созданный в 1991 году [Великодушным пожизненным диктатором](https://ru.wikipedia.org/wiki/%D0%92%D0%B5%D0%BB%D0%B8%D0%BA%D0%BE%D0%B4%D1%83%D1%88%D0%BD%D1%8B%D0%B9_%D0%BF%D0%BE%D0%B6%D0%B8%D0%B7%D0%BD%D0%B5%D0%BD%D0%BD%D1%8B%D0%B9_%D0%B4%D0%B8%D0%BA%D1%82%D0%B0%D1%82%D0%BE%D1%80) Гвидо ван Россумом и названный в честь любимого им шоу [Monty Python's Flying Circus](https://en.wikipedia.org/wiki/Monty_Python%27s_Flying_Circus)\n",
        "\n",
        "<img src=\"https://advancelocal-adapter-image-uploads.s3.amazonaws.com/image.oregonlive.com/home/olive-media/width2048/img/tv/photo/2018/10/10/montycastjpg-7ef393e2355a42aa.jpg\" width=\"300\">"
      ]
    },
    {
      "cell_type": "markdown",
      "metadata": {
        "id": "EWghNlBUVsno"
      },
      "source": [
        "# 2. Anaconda\n",
        "\n",
        "<img src=\"https://cdn-images-1.medium.com/max/1600/0*MVkCW8_Bmj-nuAnI.png\" width=\"300\">\n",
        "\n",
        "[Сборка Anaconda](https://www.anaconda.com/products/individual) включает очень много полезных библиотек для анализа данных. \n",
        "\n",
        "Среди наиболее популярных библиотек:\n",
        " - <a href=\"http://numpy.org\">Numpy</a> - это один из основных пакетов для математических вычислений. Он содержит средства для работы с многомерными массивами и высокоуровневыми математическими функциями\n",
        " - <a href=\"https://www.scipy.org/\">SciPy</a> - научные вычисления. Методы оптимизации, интегрирования, модули обработки сигналов и изображений, статистика, линейная алгебра, сплайны, кластеризация и многое другое\n",
        " -  <a href=\"http://pandas.pydata.org/\">Pandas</a> - основная библиотека для обработки и анализа данных. Предназначена для данных разной природы - матричных, панельных данных, временных рядов. Претендует на звание самого мощного и гибкого средства для анализа данных с открытым исходным кодом\n",
        " - <a href=\"http://scikit-learn.org/stable/\">Scikit-learn</a> - реализация очень многих методов машинного обучения с отличной документацией. \n",
        " - <a href=\"http://http://matplotlib.org/\">matplotlib</a> - хорошая библиотека для визуализации данных"
      ]
    },
    {
      "cell_type": "markdown",
      "metadata": {
        "id": "irux2M35Vsno"
      },
      "source": [
        "# 3. Задачки"
      ]
    },
    {
      "cell_type": "markdown",
      "metadata": {
        "id": "AckwUMX3Vsnp"
      },
      "source": [
        "## Задача 1\n",
        "$N$ хоббитов делят $K$ кусков эльфийского хлеба поровну, не делящийся нацело остаток остается в корзинке у Сэма. Напишите функцию, которая принимает на вход параметры $N$ и $K$ и возвращает два числа: $x$ - cколько кусков эльфиского хлеба достанется каждому хоббиту, и $y$ - сколько кусков остаётся в корзинке."
      ]
    },
    {
      "cell_type": "code",
      "execution_count": 1,
      "metadata": {
        "id": "B3uj8RXcVsnp"
      },
      "outputs": [],
      "source": [
        "def share_bread(N, K):\n",
        "    x = K // N\n",
        "    y = K % N\n",
        "    return x, y\n",
        "\n",
        "# если в функции всё верно, то после выполнения этой строчки, не должно выскакивать ошибок\n",
        "assert share_bread(N=3, K=14) == (4, 2)"
      ]
    },
    {
      "cell_type": "markdown",
      "metadata": {
        "id": "bs3cX2aNVsnq"
      },
      "source": [
        "## Задача 2\n",
        "\n",
        "В копях Мории хоббиты нашли стену, на которой высечены разные натуральные числа. Согласно древним сказаниям, это даты сражений. Хоббиты знают, что сражения происходили только по високосным годам. Помогите хоббитам определить, является ли год с данным числом датой великого сражения. Если это так, то верните строку \"YOU SHALL PASS\", иначе верните \"YOU SHALL NOT PASS\". Напомним, что в соответствии с хоббитским календарем, год является високосным, если его номер кратен 4, но не кратен 100, а также если он кратен 400."
      ]
    },
    {
      "cell_type": "code",
      "execution_count": 2,
      "metadata": {
        "id": "4ujO5bqWVsnr"
      },
      "outputs": [],
      "source": [
        "def leap_year(year):\n",
        "    text_result = 'YOU SHALL PASS' if (year % 4 == 0 and year % 100 != 0) or year % 400 == 0 else 'YOU SHALL NOT PASS'\n",
        "    return text_result\n",
        "\n",
        "assert leap_year(5) == 'YOU SHALL NOT PASS'"
      ]
    },
    {
      "cell_type": "markdown",
      "metadata": {
        "id": "5OzIKzrnVsnr"
      },
      "source": [
        "## Задача 3\n",
        "<img src=\"http://i0.kym-cdn.com/photos/images/original/001/187/255/5e9.gif\" width=300>\n",
        "Для могущественного магического ритуала Гендальфу необходимо быстро подсчитывать площадь своего амулета, который умеет менять размеры. Известно, что амулет имеет форму треугольника и Гендальф знает длину каждой из сторон. Напишите функцию, которая считает площадь амулета по трем сторонам.  \n",
        "\n",
        "Подсказка: используйте формулу Герона\n",
        "$$ S = \\sqrt{p(p-a)(p-b)(p-c)} $$\n",
        "$$ p = \\frac{a + b + c}{2}$$\n"
      ]
    },
    {
      "cell_type": "code",
      "execution_count": 3,
      "metadata": {
        "id": "-WKcrDakVsnr"
      },
      "outputs": [],
      "source": [
        "def amulet_area(a, b, c):\n",
        "    p = (a + b + c) / 2\n",
        "    S = (p * (p - a) * (p - b) * (p - c)) ** 0.5\n",
        "    return S\n",
        "\n",
        "assert amulet_area(3, 4, 5) == 6"
      ]
    },
    {
      "cell_type": "markdown",
      "metadata": {
        "id": "ss09ut2rVsns"
      },
      "source": [
        "## Задача 4\n",
        "\n",
        "Хоббиты собираются пешком идти до Мордора и им нужно подсчитать расстояние, которое им предстоит пройти. Хоббиты смогли вспомнить сразу несколько метрик расстояния: евклидово, манхэттена и косинусное, так что ваша задача - напистать функцию под каждую из них. Важное условие - используйте только базовые функции numpy для решения.\n",
        "\n",
        "\n",
        "* Евклидово расстояние\n",
        "$$ d(a, b) = \\sqrt{\\sum_i (a_i - b_i)^2} $$\n",
        "* Расстояние Манхэттена\n",
        "$$ d(a, b) = \\sum_i |a_i - b_i| $$\n",
        "* Косинусное расстояние\n",
        "$$ d(a, b) = 1 - \\frac{a^\\top b}{||a||_2\\cdot||b||_2}$$"
      ]
    },
    {
      "cell_type": "code",
      "source": [
        "import numpy as np"
      ],
      "metadata": {
        "id": "QqJqoWl7dNVE"
      },
      "execution_count": 4,
      "outputs": []
    },
    {
      "cell_type": "code",
      "execution_count": 5,
      "metadata": {
        "id": "EhLVJUJaVsns"
      },
      "outputs": [],
      "source": [
        "def cal_euclidean(a, b):    \n",
        "    distance = np.sqrt(np.sum(np.square(a - b)))\n",
        "    return distance\n",
        "\n",
        "def cal_manhattan(a, b):    \n",
        "    distance = np.sum(np.abs(a - b))\n",
        "    return distance\n",
        "\n",
        "def cal_cosine(a, b):    \n",
        "    distance = 1 - np.inner(a, b) / np.sqrt(np.dot(a, a) * np.dot(b, b))\n",
        "    return distance"
      ]
    },
    {
      "cell_type": "code",
      "execution_count": 6,
      "metadata": {
        "colab": {
          "base_uri": "https://localhost:8080/"
        },
        "id": "PytY4WkkVsnt",
        "outputId": "5cf3392b-eedd-4eba-b00a-47495b9a36dd"
      },
      "outputs": [
        {
          "output_type": "stream",
          "name": "stdout",
          "text": [
            "27.422618401604176\n",
            "70\n",
            "1.136341102506362\n"
          ]
        }
      ],
      "source": [
        "a = np.random.randint(-10, 10, size=10)\n",
        "b = np.random.randint(-10, 10, size=10)\n",
        "print(cal_euclidean(a, b))\n",
        "print(cal_manhattan(a, b))\n",
        "print(cal_cosine(a, b))"
      ]
    },
    {
      "cell_type": "markdown",
      "metadata": {
        "id": "KPTnm38bVsnt"
      },
      "source": [
        "## Задача 5\n",
        "\n",
        "Ну и напоследок, еще немного практики numpy, без которой не обходится ни один хоббит.\n"
      ]
    },
    {
      "cell_type": "markdown",
      "metadata": {
        "id": "gpIGvD5WVsnt"
      },
      "source": [
        "Создайте случайный array (`np.random.rand()`) длинной 100. Преобразуйте его так, чтобы\n",
        "* Максимальный элемент(ы) был равен 1\n",
        "* Минимальный элемент(ы) был равен 0\n",
        "* Остальные элементы в итнтервале от 0 до 1 остаются прежними"
      ]
    },
    {
      "cell_type": "code",
      "execution_count": 11,
      "metadata": {
        "colab": {
          "base_uri": "https://localhost:8080/"
        },
        "id": "EcWbGZM8Vsnu",
        "outputId": "b7378ca1-ab0f-4725-bbf9-3ed9a40e01ac"
      },
      "outputs": [
        {
          "output_type": "stream",
          "name": "stdout",
          "text": [
            "1.0 0.0\n",
            "[0.39021662 0.32996825 0.77126706 0.20602833 0.05044416 0.90194037\n",
            " 0.96199784 0.         0.76468226 0.76825263 0.58299898 0.17289825\n",
            " 0.88856351 0.60827775 0.49571187 0.98775302 0.94442167 0.42315449\n",
            " 0.32529092 0.27786335 0.14638286 0.11348438 0.38575543 0.79180763\n",
            " 0.53810176 0.54624081 0.72974171 0.33446374 0.85180402 0.91616451\n",
            " 0.87358798 0.95710149 0.66807029 0.97306545 0.75982763 0.88649751\n",
            " 1.         0.70466475 0.70015482 0.56968398 0.18043776 0.27591147\n",
            " 0.88311138 0.7713658  0.96527749 0.61522991 0.66699859 0.84655593\n",
            " 0.37013657 0.84367191 0.33878726 0.99252385 0.89619007 0.60408036\n",
            " 0.20925827 0.39902434 0.1360831  0.39607473 0.18700464 0.60671357\n",
            " 0.23576768 0.39686842 0.84786394 0.64015254 0.5166009  0.57626861\n",
            " 0.81153043 0.60247948 0.33331438 0.90255396 0.35045057 0.86317421\n",
            " 0.06794055 0.31708773 0.01009754 0.93571756 0.29562347 0.97872904\n",
            " 0.42146642 0.05573767 0.03212822 0.83962513 0.38965797 0.70080503\n",
            " 0.22560138 0.360113   0.32905806 0.85908659 0.45988401 0.81082446\n",
            " 0.2915147  0.73631758 0.98459656 0.74394034 0.48871627 0.68213034\n",
            " 0.77031061 0.43910159 0.98876254 0.07928426]\n"
          ]
        }
      ],
      "source": [
        "my_array = np.random.rand(100)\n",
        "my_array[my_array == np.max(my_array)] = 1\n",
        "my_array[my_array == np.min(my_array)] = 0\n",
        "print(np.max(my_array), np.min(my_array))\n",
        "print(my_array)"
      ]
    },
    {
      "cell_type": "markdown",
      "metadata": {
        "id": "CSkAmwgAVsnu"
      },
      "source": [
        "Создайте array размером $5 \\times 6$ с целыми числами в интервале [0,50]. Напечатайте колонку, которая содержит максимальный элемент полученной матрицы "
      ]
    },
    {
      "cell_type": "code",
      "execution_count": 44,
      "metadata": {
        "colab": {
          "base_uri": "https://localhost:8080/"
        },
        "id": "ChPjMr-aVsnu",
        "outputId": "df89010a-358c-4fa3-cb3e-6135f967a940"
      },
      "outputs": [
        {
          "output_type": "stream",
          "name": "stdout",
          "text": [
            "Shape:  (5, 6)\n",
            "Array\n",
            "[[46 21  5 45 48 22]\n",
            " [ 1 49 11  1 18 40]\n",
            " [48 28 24 24  4 10]\n",
            " [42 46  7 18 14 49]\n",
            " [ 7 48  6 25 48 20]]\n",
            "[21 49 28 46 48]\n"
          ]
        }
      ],
      "source": [
        "my_array = np.random.randint(51, size=(5, 6))\n",
        "selected_column = my_array[:, np.argmax(my_array.max(axis=0))]\n",
        "print('Shape: ',my_array.shape)\n",
        "print('Array')\n",
        "print(my_array)\n",
        "print(selected_column)"
      ]
    },
    {
      "cell_type": "markdown",
      "metadata": {
        "id": "tHaPTKjbVsnu"
      },
      "source": [
        "Напишите функцию, которая принимает на вход матрицу (array) X и возвращает все её уникальные строки в виде новой матрицы."
      ]
    },
    {
      "cell_type": "code",
      "execution_count": 75,
      "metadata": {
        "id": "j1ABEUOaVsnv"
      },
      "outputs": [],
      "source": [
        "def get_unique_rows(X):\n",
        "    X_unique = np.array(list({tuple(row) for row in X}))\n",
        "    return X_unique"
      ]
    },
    {
      "cell_type": "code",
      "execution_count": 65,
      "metadata": {
        "colab": {
          "base_uri": "https://localhost:8080/"
        },
        "id": "ZVzI93XTVsnv",
        "outputId": "fb4bfc55-d532-4a2f-8d48-cec48297a360"
      },
      "outputs": [
        {
          "output_type": "stream",
          "name": "stdout",
          "text": [
            "[[4 4 4]\n",
            " [4 5 5]\n",
            " [5 5 4]\n",
            " [5 5 4]\n",
            " [4 4 5]\n",
            " [4 5 5]\n",
            " [4 5 5]\n",
            " [5 4 5]\n",
            " [5 4 4]\n",
            " [5 5 4]]\n"
          ]
        }
      ],
      "source": [
        "X = np.random.randint(4, 6, size=(10,3))\n",
        "print(X)"
      ]
    },
    {
      "cell_type": "code",
      "execution_count": 76,
      "metadata": {
        "colab": {
          "base_uri": "https://localhost:8080/"
        },
        "id": "QVuTmyaUVsnv",
        "outputId": "c48c46e5-9d0c-4415-c435-60d375207ccd"
      },
      "outputs": [
        {
          "output_type": "execute_result",
          "data": {
            "text/plain": [
              "array([[5, 4, 5],\n",
              "       [4, 4, 5],\n",
              "       [4, 4, 4],\n",
              "       [5, 5, 4],\n",
              "       [4, 5, 5],\n",
              "       [5, 4, 4]])"
            ]
          },
          "metadata": {},
          "execution_count": 76
        }
      ],
      "source": [
        "get_unique_rows(X)"
      ]
    }
  ],
  "metadata": {
    "kernelspec": {
      "display_name": "Python 3",
      "language": "python",
      "name": "python3"
    },
    "language_info": {
      "codemirror_mode": {
        "name": "ipython",
        "version": 3
      },
      "file_extension": ".py",
      "mimetype": "text/x-python",
      "name": "python",
      "nbconvert_exporter": "python",
      "pygments_lexer": "ipython3",
      "version": "3.7.6"
    },
    "varInspector": {
      "cols": {
        "lenName": 16,
        "lenType": 16,
        "lenVar": 40
      },
      "kernels_config": {
        "python": {
          "delete_cmd_postfix": "",
          "delete_cmd_prefix": "del ",
          "library": "var_list.py",
          "varRefreshCmd": "print(var_dic_list())"
        },
        "r": {
          "delete_cmd_postfix": ") ",
          "delete_cmd_prefix": "rm(",
          "library": "var_list.r",
          "varRefreshCmd": "cat(var_dic_list()) "
        }
      },
      "types_to_exclude": [
        "module",
        "function",
        "builtin_function_or_method",
        "instance",
        "_Feature"
      ],
      "window_display": false
    },
    "colab": {
      "name": "homework_1.ipynb",
      "provenance": []
    }
  },
  "nbformat": 4,
  "nbformat_minor": 0
}